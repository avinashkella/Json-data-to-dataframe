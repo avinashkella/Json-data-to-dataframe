{
  "nbformat": 4,
  "nbformat_minor": 0,
  "metadata": {
    "colab": {
      "name": "Json_data.ipynb",
      "provenance": [],
      "collapsed_sections": []
    },
    "kernelspec": {
      "name": "python3",
      "display_name": "Python 3"
    },
    "language_info": {
      "name": "python"
    }
  },
  "cells": [
    {
      "cell_type": "code",
      "metadata": {
        "id": "o3qX81pESv4b"
      },
      "source": [
        "# import Libraries\n",
        "import pandas as pd\n",
        "import json"
      ],
      "execution_count": null,
      "outputs": []
    },
    {
      "cell_type": "code",
      "metadata": {
        "id": "BBggEH4mTBv_"
      },
      "source": [
        "df = pd.read_json(\"schools-additional.json\")"
      ],
      "execution_count": null,
      "outputs": []
    },
    {
      "cell_type": "code",
      "metadata": {
        "colab": {
          "base_uri": "https://localhost:8080/",
          "height": 141
        },
        "id": "tnfLnTHxTFuY",
        "outputId": "30f49822-e621-44d1-b9d5-5e6f0433663b"
      },
      "source": [
        "df"
      ],
      "execution_count": null,
      "outputs": [
        {
          "output_type": "execute_result",
          "data": {
            "text/html": [
              "<div>\n",
              "<style scoped>\n",
              "    .dataframe tbody tr th:only-of-type {\n",
              "        vertical-align: middle;\n",
              "    }\n",
              "\n",
              "    .dataframe tbody tr th {\n",
              "        vertical-align: top;\n",
              "    }\n",
              "\n",
              "    .dataframe thead th {\n",
              "        text-align: right;\n",
              "    }\n",
              "</style>\n",
              "<table border=\"1\" class=\"dataframe\">\n",
              "  <thead>\n",
              "    <tr style=\"text-align: right;\">\n",
              "      <th></th>\n",
              "      <th>id</th>\n",
              "      <th>school_details</th>\n",
              "      <th>score</th>\n",
              "    </tr>\n",
              "  </thead>\n",
              "  <tbody>\n",
              "    <tr>\n",
              "      <th>0</th>\n",
              "      <td>4533</td>\n",
              "      <td>[{'school': 'Kutama', 'grade_codes': '[3ae, 5f...</td>\n",
              "      <td>95</td>\n",
              "    </tr>\n",
              "    <tr>\n",
              "      <th>1</th>\n",
              "      <td>6578</td>\n",
              "      <td>[{'school': 'Kutama', 'grade_codes': '[9tr, 5y...</td>\n",
              "      <td>80</td>\n",
              "    </tr>\n",
              "    <tr>\n",
              "      <th>2</th>\n",
              "      <td>9876</td>\n",
              "      <td>[{'school': 'Roosevelt', 'grade_codes': '[4yu,...</td>\n",
              "      <td>87</td>\n",
              "    </tr>\n",
              "  </tbody>\n",
              "</table>\n",
              "</div>"
            ],
            "text/plain": [
              "     id                                     school_details  score\n",
              "0  4533  [{'school': 'Kutama', 'grade_codes': '[3ae, 5f...     95\n",
              "1  6578  [{'school': 'Kutama', 'grade_codes': '[9tr, 5y...     80\n",
              "2  9876  [{'school': 'Roosevelt', 'grade_codes': '[4yu,...     87"
            ]
          },
          "metadata": {},
          "execution_count": 5
        }
      ]
    },
    {
      "cell_type": "code",
      "metadata": {
        "id": "GZXSmGqWUIs7"
      },
      "source": [
        "# load data using Python JSON module\n",
        "with open('schools-additional.json','r') as f:\n",
        "    data = json.loads(f.read())"
      ],
      "execution_count": null,
      "outputs": []
    },
    {
      "cell_type": "code",
      "metadata": {
        "id": "upz3YQvJTHuY"
      },
      "source": [
        "df_nested_list = pd.json_normalize(data, record_path =['school_details'],  meta=['id', 'score'])"
      ],
      "execution_count": null,
      "outputs": []
    },
    {
      "cell_type": "code",
      "metadata": {
        "colab": {
          "base_uri": "https://localhost:8080/",
          "height": 263
        },
        "id": "8dOgnikyUTV5",
        "outputId": "836227b5-6065-4152-eeae-94e6f4a5cabc"
      },
      "source": [
        "df_nested_list"
      ],
      "execution_count": null,
      "outputs": [
        {
          "output_type": "execute_result",
          "data": {
            "text/html": [
              "<div>\n",
              "<style scoped>\n",
              "    .dataframe tbody tr th:only-of-type {\n",
              "        vertical-align: middle;\n",
              "    }\n",
              "\n",
              "    .dataframe tbody tr th {\n",
              "        vertical-align: top;\n",
              "    }\n",
              "\n",
              "    .dataframe thead th {\n",
              "        text-align: right;\n",
              "    }\n",
              "</style>\n",
              "<table border=\"1\" class=\"dataframe\">\n",
              "  <thead>\n",
              "    <tr style=\"text-align: right;\">\n",
              "      <th></th>\n",
              "      <th>school</th>\n",
              "      <th>grade_codes</th>\n",
              "      <th>meal</th>\n",
              "      <th>sports</th>\n",
              "      <th>reference_1</th>\n",
              "      <th>other_references</th>\n",
              "      <th>id</th>\n",
              "      <th>score</th>\n",
              "    </tr>\n",
              "  </thead>\n",
              "  <tbody>\n",
              "    <tr>\n",
              "      <th>0</th>\n",
              "      <td>Kutama</td>\n",
              "      <td>[3ae, 5fg, 4re]</td>\n",
              "      <td>lunch</td>\n",
              "      <td>[]</td>\n",
              "      <td>John's lunch</td>\n",
              "      <td>[main eggs, kitchen, food two]</td>\n",
              "      <td>4533</td>\n",
              "      <td>95</td>\n",
              "    </tr>\n",
              "    <tr>\n",
              "      <th>1</th>\n",
              "      <td>Freds</td>\n",
              "      <td>[9gt, 7gh, 6hf]</td>\n",
              "      <td>lunch</td>\n",
              "      <td>[]</td>\n",
              "      <td>Playing with the dog</td>\n",
              "      <td>[main eggs, spare wheel, food three, janitor]</td>\n",
              "      <td>4533</td>\n",
              "      <td>95</td>\n",
              "    </tr>\n",
              "    <tr>\n",
              "      <th>2</th>\n",
              "      <td>Kutama</td>\n",
              "      <td>[9tr, 5yu]</td>\n",
              "      <td>lunch</td>\n",
              "      <td>[]</td>\n",
              "      <td>Sitting on the stands</td>\n",
              "      <td>[football, 3rd series]</td>\n",
              "      <td>6578</td>\n",
              "      <td>80</td>\n",
              "    </tr>\n",
              "    <tr>\n",
              "      <th>3</th>\n",
              "      <td>Mazowe</td>\n",
              "      <td>[]</td>\n",
              "      <td>lunch</td>\n",
              "      <td>[]</td>\n",
              "      <td>Playing with the dog</td>\n",
              "      <td>[None]</td>\n",
              "      <td>6578</td>\n",
              "      <td>80</td>\n",
              "    </tr>\n",
              "    <tr>\n",
              "      <th>4</th>\n",
              "      <td>Roosevelt</td>\n",
              "      <td>[4yu, 8ij]</td>\n",
              "      <td>dinner</td>\n",
              "      <td>[]</td>\n",
              "      <td>sportsroom</td>\n",
              "      <td>[footballs, restroom]</td>\n",
              "      <td>9876</td>\n",
              "      <td>87</td>\n",
              "    </tr>\n",
              "    <tr>\n",
              "      <th>5</th>\n",
              "      <td>St Dominics</td>\n",
              "      <td>[]</td>\n",
              "      <td>lunch</td>\n",
              "      <td>[]</td>\n",
              "      <td>meal two</td>\n",
              "      <td>[None]</td>\n",
              "      <td>9876</td>\n",
              "      <td>87</td>\n",
              "    </tr>\n",
              "    <tr>\n",
              "      <th>6</th>\n",
              "      <td>Johns</td>\n",
              "      <td>[]</td>\n",
              "      <td>dinner</td>\n",
              "      <td>[]</td>\n",
              "      <td>watching telly</td>\n",
              "      <td>[None]</td>\n",
              "      <td>9876</td>\n",
              "      <td>87</td>\n",
              "    </tr>\n",
              "  </tbody>\n",
              "</table>\n",
              "</div>"
            ],
            "text/plain": [
              "        school      grade_codes  ...    id score\n",
              "0       Kutama  [3ae, 5fg, 4re]  ...  4533    95\n",
              "1        Freds  [9gt, 7gh, 6hf]  ...  4533    95\n",
              "2       Kutama       [9tr, 5yu]  ...  6578    80\n",
              "3       Mazowe               []  ...  6578    80\n",
              "4    Roosevelt       [4yu, 8ij]  ...  9876    87\n",
              "5  St Dominics               []  ...  9876    87\n",
              "6        Johns               []  ...  9876    87\n",
              "\n",
              "[7 rows x 8 columns]"
            ]
          },
          "metadata": {},
          "execution_count": 14
        }
      ]
    },
    {
      "cell_type": "code",
      "metadata": {
        "colab": {
          "base_uri": "https://localhost:8080/"
        },
        "id": "WUG93lyrVzb6",
        "outputId": "00cd66ce-4f6e-4941-d160-d9a548cbe038"
      },
      "source": [
        "df_nested_list[\"other_references\"]"
      ],
      "execution_count": null,
      "outputs": [
        {
          "output_type": "execute_result",
          "data": {
            "text/plain": [
              "0                   [main eggs, kitchen, food two]\n",
              "1    [main eggs, spare wheel, food three, janitor]\n",
              "2                           [football, 3rd series]\n",
              "3                                           [None]\n",
              "4                            [footballs, restroom]\n",
              "5                                           [None]\n",
              "6                                           [None]\n",
              "Name: other_references, dtype: object"
            ]
          },
          "metadata": {},
          "execution_count": 40
        }
      ]
    },
    {
      "cell_type": "code",
      "metadata": {
        "colab": {
          "base_uri": "https://localhost:8080/"
        },
        "id": "xIRkwtKfZ0pr",
        "outputId": "beb3b300-89f6-44b1-eccf-80c5a4b5630d"
      },
      "source": [
        "for i, l in enumerate(df_nested_list[\"other_references\"]):\n",
        "    print(\"list\",i,\"is\",type(l))"
      ],
      "execution_count": null,
      "outputs": [
        {
          "output_type": "stream",
          "text": [
            "list 0 is <class 'list'>\n",
            "list 1 is <class 'list'>\n",
            "list 2 is <class 'list'>\n",
            "list 3 is <class 'list'>\n",
            "list 4 is <class 'list'>\n",
            "list 5 is <class 'list'>\n",
            "list 6 is <class 'list'>\n"
          ],
          "name": "stdout"
        }
      ]
    },
    {
      "cell_type": "code",
      "metadata": {
        "colab": {
          "base_uri": "https://localhost:8080/"
        },
        "id": "Z5JsFI7de-HY",
        "outputId": "a6ed7d39-9047-484d-f5ff-702c3596cfc8"
      },
      "source": [
        "def to_1D(series):\n",
        " return pd.Series([x for _list in series for x in _list])\n",
        "\n",
        "all_records = to_1D(df_nested_list[\"other_references\"]).value_counts()\n",
        "all_records"
      ],
      "execution_count": null,
      "outputs": [
        {
          "output_type": "execute_result",
          "data": {
            "text/plain": [
              "main eggs      2\n",
              "kitchen        1\n",
              "spare wheel    1\n",
              "restroom       1\n",
              "3rd series     1\n",
              "football       1\n",
              "footballs      1\n",
              "food three     1\n",
              "food two       1\n",
              "janitor        1\n",
              "dtype: int64"
            ]
          },
          "metadata": {},
          "execution_count": 142
        }
      ]
    },
    {
      "cell_type": "code",
      "metadata": {
        "colab": {
          "base_uri": "https://localhost:8080/"
        },
        "id": "sqDLydFfU99z",
        "outputId": "971dc877-ef33-4314-ca2d-4bc7d1439add"
      },
      "source": [
        "# What is the average number of \"other_references\" in all the data\n",
        "df_nested_list[\"other_references\"].str.len()"
      ],
      "execution_count": null,
      "outputs": [
        {
          "output_type": "execute_result",
          "data": {
            "text/plain": [
              "0    3\n",
              "1    4\n",
              "2    2\n",
              "3    1\n",
              "4    2\n",
              "5    1\n",
              "6    1\n",
              "Name: other_references, dtype: int64"
            ]
          },
          "metadata": {},
          "execution_count": 16
        }
      ]
    },
    {
      "cell_type": "code",
      "metadata": {
        "colab": {
          "base_uri": "https://localhost:8080/"
        },
        "id": "0YvnhFQPjbow",
        "outputId": "802849d6-3e78-43db-d85f-59cb7c7ab3aa"
      },
      "source": [
        "# how many students have only 2 items in their \"other_references\" list\n",
        "df_nested_list.loc[df_nested_list[\"other_references\"].str.len() == 2, 'id']"
      ],
      "execution_count": null,
      "outputs": [
        {
          "output_type": "execute_result",
          "data": {
            "text/plain": [
              "2    6578\n",
              "4    9876\n",
              "Name: id, dtype: object"
            ]
          },
          "metadata": {},
          "execution_count": 90
        }
      ]
    },
    {
      "cell_type": "code",
      "metadata": {
        "id": "sNYY40IllWko"
      },
      "source": [
        "total = df_nested_list[\"other_references\"].str.len().sum()"
      ],
      "execution_count": null,
      "outputs": []
    },
    {
      "cell_type": "code",
      "metadata": {
        "colab": {
          "base_uri": "https://localhost:8080/"
        },
        "id": "3FG4r5iKk1EH",
        "outputId": "c7617f34-1bef-43f2-d298-dacb04803fee"
      },
      "source": [
        "# What percentage of students have 2, or more than 3 items in \"other_references\". how many have 4 or more?\n",
        "(((df_nested_list[\"other_references\"].str.len() == 2).sum() / (total)) * 100).sum()"
      ],
      "execution_count": null,
      "outputs": [
        {
          "output_type": "execute_result",
          "data": {
            "text/plain": [
              "28.57142857142857"
            ]
          },
          "metadata": {},
          "execution_count": 121
        }
      ]
    },
    {
      "cell_type": "code",
      "metadata": {
        "colab": {
          "base_uri": "https://localhost:8080/"
        },
        "id": "jBzWe8hIlk38",
        "outputId": "5b23de23-e954-4fb1-ebbf-9ab19e017314"
      },
      "source": [
        "(((df_nested_list[\"other_references\"].str.len() == 3).sum() / (total)) * 100).sum()"
      ],
      "execution_count": null,
      "outputs": [
        {
          "output_type": "execute_result",
          "data": {
            "text/plain": [
              "14.285714285714285"
            ]
          },
          "metadata": {},
          "execution_count": 122
        }
      ]
    },
    {
      "cell_type": "code",
      "metadata": {
        "colab": {
          "base_uri": "https://localhost:8080/"
        },
        "id": "AAl_0K6DlnWT",
        "outputId": "6a0cd9ac-8d7c-4c3f-cb31-de7273f9ae38"
      },
      "source": [
        "(((df_nested_list[\"other_references\"].str.len() == 4) / (total)).sum() * 100).sum()"
      ],
      "execution_count": null,
      "outputs": [
        {
          "output_type": "execute_result",
          "data": {
            "text/plain": [
              "14.285714285714285"
            ]
          },
          "metadata": {},
          "execution_count": 123
        }
      ]
    },
    {
      "cell_type": "code",
      "metadata": {
        "colab": {
          "base_uri": "https://localhost:8080/"
        },
        "id": "-1ADNVZanbDi",
        "outputId": "d02c4ce0-aa50-44f1-cc52-5cf6e54ecad4"
      },
      "source": [
        "df_nested_list[\"meal\"] == \"lunch\""
      ],
      "execution_count": null,
      "outputs": [
        {
          "output_type": "execute_result",
          "data": {
            "text/plain": [
              "0     True\n",
              "1     True\n",
              "2     True\n",
              "3     True\n",
              "4    False\n",
              "5     True\n",
              "6    False\n",
              "Name: meal, dtype: bool"
            ]
          },
          "metadata": {},
          "execution_count": 107
        }
      ]
    },
    {
      "cell_type": "code",
      "metadata": {
        "colab": {
          "base_uri": "https://localhost:8080/"
        },
        "id": "mF5OuI19qIYY",
        "outputId": "3cba0ea2-c212-4f42-8f2e-e62efa744a00"
      },
      "source": [
        "df_nested_list[\"meal\"]"
      ],
      "execution_count": null,
      "outputs": [
        {
          "output_type": "execute_result",
          "data": {
            "text/plain": [
              "0     lunch\n",
              "1     lunch\n",
              "2     lunch\n",
              "3     lunch\n",
              "4    dinner\n",
              "5     lunch\n",
              "6    dinner\n",
              "Name: meal, dtype: object"
            ]
          },
          "metadata": {},
          "execution_count": 129
        }
      ]
    },
    {
      "cell_type": "code",
      "metadata": {
        "colab": {
          "base_uri": "https://localhost:8080/"
        },
        "id": "mllEtHhLqFqx",
        "outputId": "28f9a95a-c35f-43dd-d153-0a06afac4f0c"
      },
      "source": [
        "df_nested_list['id'].unique()"
      ],
      "execution_count": null,
      "outputs": [
        {
          "output_type": "execute_result",
          "data": {
            "text/plain": [
              "array(['4533', '6578', '9876'], dtype=object)"
            ]
          },
          "metadata": {},
          "execution_count": 128
        }
      ]
    },
    {
      "cell_type": "code",
      "metadata": {
        "colab": {
          "base_uri": "https://localhost:8080/"
        },
        "id": "1w2oPQkhpWAc",
        "outputId": "bc03c86b-735c-421c-85a8-e9c10e736b4d"
      },
      "source": [
        "# How many students have \"meal\":\"lunch\"?\n",
        "df_nested_list.loc[df_nested_list[\"meal\"] == \"lunch\", 'id'].unique()"
      ],
      "execution_count": null,
      "outputs": [
        {
          "output_type": "execute_result",
          "data": {
            "text/plain": [
              "array(['4533', '6578', '9876'], dtype=object)"
            ]
          },
          "metadata": {},
          "execution_count": 135
        }
      ]
    },
    {
      "cell_type": "code",
      "metadata": {
        "colab": {
          "base_uri": "https://localhost:8080/"
        },
        "id": "N4UTaNwul_mj",
        "outputId": "61801fd8-4cef-4fc9-8ae1-16de7c867f55"
      },
      "source": [
        "# how many of all records have \"meal\":\"lunch\"\n",
        "lunch = (df_nested_list.loc[df_nested_list[\"meal\"] == \"lunch\", 'id']).count()\n",
        "lunch"
      ],
      "execution_count": null,
      "outputs": [
        {
          "output_type": "execute_result",
          "data": {
            "text/plain": [
              "5"
            ]
          },
          "metadata": {},
          "execution_count": 112
        }
      ]
    },
    {
      "cell_type": "code",
      "metadata": {
        "colab": {
          "base_uri": "https://localhost:8080/"
        },
        "id": "T56za_PPn6CY",
        "outputId": "530d5e5a-24dd-42b7-b5fb-13d4950aedda"
      },
      "source": [
        "total = df_nested_list.shape[0]\n",
        "total"
      ],
      "execution_count": null,
      "outputs": [
        {
          "output_type": "execute_result",
          "data": {
            "text/plain": [
              "7"
            ]
          },
          "metadata": {},
          "execution_count": 116
        }
      ]
    },
    {
      "cell_type": "code",
      "metadata": {
        "colab": {
          "base_uri": "https://localhost:8080/"
        },
        "id": "O-XjVDvInm-h",
        "outputId": "db123ad4-5e8a-49f9-8e94-71f55bff5d6d"
      },
      "source": [
        "# What percentage are they of the data?\n",
        "(lunch/total) * 100"
      ],
      "execution_count": null,
      "outputs": [
        {
          "output_type": "execute_result",
          "data": {
            "text/plain": [
              "71.42857142857143"
            ]
          },
          "metadata": {},
          "execution_count": 117
        }
      ]
    },
    {
      "cell_type": "code",
      "metadata": {
        "colab": {
          "base_uri": "https://localhost:8080/"
        },
        "id": "GxKgOEi-oVgz",
        "outputId": "0e6dd1a4-b26a-4c02-c35c-3523046b175c"
      },
      "source": [
        "#  How many records in total, regardless of which student have more than 2 items in \"other_references\"?\n",
        "(df_nested_list[\"other_references\"].str.len() != 2).sum()"
      ],
      "execution_count": null,
      "outputs": [
        {
          "output_type": "execute_result",
          "data": {
            "text/plain": [
              "5"
            ]
          },
          "metadata": {},
          "execution_count": 125
        }
      ]
    },
    {
      "cell_type": "code",
      "metadata": {
        "colab": {
          "base_uri": "https://localhost:8080/"
        },
        "id": "2nPg7hMso_Wm",
        "outputId": "19654946-082a-4a0f-8951-f50062c67ea3"
      },
      "source": [
        "# how many records are null in \"other_references\"?\n",
        "(df_nested_list[\"other_references\"].str.len() == 1).sum()"
      ],
      "execution_count": null,
      "outputs": [
        {
          "output_type": "execute_result",
          "data": {
            "text/plain": [
              "3"
            ]
          },
          "metadata": {},
          "execution_count": 141
        }
      ]
    },
    {
      "cell_type": "code",
      "metadata": {
        "colab": {
          "base_uri": "https://localhost:8080/"
        },
        "id": "T1VFkmJLrJ5g",
        "outputId": "54109595-8a80-4e99-deb1-7d8cadd54df0"
      },
      "source": [
        "# concatenate all items in \"other_references\"\n",
        "all_records.sum()"
      ],
      "execution_count": null,
      "outputs": [
        {
          "output_type": "execute_result",
          "data": {
            "text/plain": [
              "11"
            ]
          },
          "metadata": {},
          "execution_count": 144
        }
      ]
    },
    {
      "cell_type": "code",
      "metadata": {
        "colab": {
          "base_uri": "https://localhost:8080/",
          "height": 263
        },
        "id": "jQA0o3XkspC8",
        "outputId": "2bd6eaaa-267a-4a1e-a6bf-60e6fcd7d1b9"
      },
      "source": [
        "df_nested_list.astype(str)"
      ],
      "execution_count": null,
      "outputs": [
        {
          "output_type": "execute_result",
          "data": {
            "text/html": [
              "<div>\n",
              "<style scoped>\n",
              "    .dataframe tbody tr th:only-of-type {\n",
              "        vertical-align: middle;\n",
              "    }\n",
              "\n",
              "    .dataframe tbody tr th {\n",
              "        vertical-align: top;\n",
              "    }\n",
              "\n",
              "    .dataframe thead th {\n",
              "        text-align: right;\n",
              "    }\n",
              "</style>\n",
              "<table border=\"1\" class=\"dataframe\">\n",
              "  <thead>\n",
              "    <tr style=\"text-align: right;\">\n",
              "      <th></th>\n",
              "      <th>school</th>\n",
              "      <th>grade_codes</th>\n",
              "      <th>meal</th>\n",
              "      <th>sports</th>\n",
              "      <th>reference_1</th>\n",
              "      <th>other_references</th>\n",
              "      <th>id</th>\n",
              "      <th>score</th>\n",
              "    </tr>\n",
              "  </thead>\n",
              "  <tbody>\n",
              "    <tr>\n",
              "      <th>0</th>\n",
              "      <td>Kutama</td>\n",
              "      <td>[3ae, 5fg, 4re]</td>\n",
              "      <td>lunch</td>\n",
              "      <td>[]</td>\n",
              "      <td>John's lunch</td>\n",
              "      <td>['main eggs', 'kitchen', 'food two']</td>\n",
              "      <td>4533</td>\n",
              "      <td>95</td>\n",
              "    </tr>\n",
              "    <tr>\n",
              "      <th>1</th>\n",
              "      <td>Freds</td>\n",
              "      <td>[9gt, 7gh, 6hf]</td>\n",
              "      <td>lunch</td>\n",
              "      <td>[]</td>\n",
              "      <td>Playing with the dog</td>\n",
              "      <td>['main eggs', 'spare wheel', 'food three', 'ja...</td>\n",
              "      <td>4533</td>\n",
              "      <td>95</td>\n",
              "    </tr>\n",
              "    <tr>\n",
              "      <th>2</th>\n",
              "      <td>Kutama</td>\n",
              "      <td>[9tr, 5yu]</td>\n",
              "      <td>lunch</td>\n",
              "      <td>[]</td>\n",
              "      <td>Sitting on the stands</td>\n",
              "      <td>['football', '3rd series']</td>\n",
              "      <td>6578</td>\n",
              "      <td>80</td>\n",
              "    </tr>\n",
              "    <tr>\n",
              "      <th>3</th>\n",
              "      <td>Mazowe</td>\n",
              "      <td>[]</td>\n",
              "      <td>lunch</td>\n",
              "      <td>[]</td>\n",
              "      <td>Playing with the dog</td>\n",
              "      <td>[None]</td>\n",
              "      <td>6578</td>\n",
              "      <td>80</td>\n",
              "    </tr>\n",
              "    <tr>\n",
              "      <th>4</th>\n",
              "      <td>Roosevelt</td>\n",
              "      <td>[4yu, 8ij]</td>\n",
              "      <td>dinner</td>\n",
              "      <td>[]</td>\n",
              "      <td>sportsroom</td>\n",
              "      <td>['footballs', 'restroom']</td>\n",
              "      <td>9876</td>\n",
              "      <td>87</td>\n",
              "    </tr>\n",
              "    <tr>\n",
              "      <th>5</th>\n",
              "      <td>St Dominics</td>\n",
              "      <td>[]</td>\n",
              "      <td>lunch</td>\n",
              "      <td>[]</td>\n",
              "      <td>meal two</td>\n",
              "      <td>[None]</td>\n",
              "      <td>9876</td>\n",
              "      <td>87</td>\n",
              "    </tr>\n",
              "    <tr>\n",
              "      <th>6</th>\n",
              "      <td>Johns</td>\n",
              "      <td>[]</td>\n",
              "      <td>dinner</td>\n",
              "      <td>[]</td>\n",
              "      <td>watching telly</td>\n",
              "      <td>[None]</td>\n",
              "      <td>9876</td>\n",
              "      <td>87</td>\n",
              "    </tr>\n",
              "  </tbody>\n",
              "</table>\n",
              "</div>"
            ],
            "text/plain": [
              "        school      grade_codes  ...    id score\n",
              "0       Kutama  [3ae, 5fg, 4re]  ...  4533    95\n",
              "1        Freds  [9gt, 7gh, 6hf]  ...  4533    95\n",
              "2       Kutama       [9tr, 5yu]  ...  6578    80\n",
              "3       Mazowe               []  ...  6578    80\n",
              "4    Roosevelt       [4yu, 8ij]  ...  9876    87\n",
              "5  St Dominics               []  ...  9876    87\n",
              "6        Johns               []  ...  9876    87\n",
              "\n",
              "[7 rows x 8 columns]"
            ]
          },
          "metadata": {},
          "execution_count": 152
        }
      ]
    },
    {
      "cell_type": "code",
      "metadata": {
        "colab": {
          "base_uri": "https://localhost:8080/"
        },
        "id": "O_uKpf5Sss9M",
        "outputId": "f63ac62b-7201-4d15-898f-c0a6dd51d7cd"
      },
      "source": [
        "for i, l in enumerate(df_nested_list[\"id\"]):\n",
        "    print(\"list\",i,\"is\",type(l))"
      ],
      "execution_count": null,
      "outputs": [
        {
          "output_type": "stream",
          "text": [
            "list 0 is <class 'str'>\n",
            "list 1 is <class 'str'>\n",
            "list 2 is <class 'str'>\n",
            "list 3 is <class 'str'>\n",
            "list 4 is <class 'str'>\n",
            "list 5 is <class 'str'>\n",
            "list 6 is <class 'str'>\n"
          ],
          "name": "stdout"
        }
      ]
    },
    {
      "cell_type": "code",
      "metadata": {
        "colab": {
          "base_uri": "https://localhost:8080/"
        },
        "id": "8Mfi0cBDuFwB",
        "outputId": "275d1bed-4f6a-4a8e-b509-cbab12a5cb39"
      },
      "source": [
        "# what is the average size/length of the resulting strings\n",
        "x = []\n",
        "for col in df_nested_list.columns:\n",
        "  c = df_nested_list[col].tolist()\n",
        "  x.append(c)\n",
        "concat_list = [j for i in x for j in i]\n",
        "len(concat_list)"
      ],
      "execution_count": null,
      "outputs": [
        {
          "output_type": "execute_result",
          "data": {
            "text/plain": [
              "56"
            ]
          },
          "metadata": {},
          "execution_count": 189
        }
      ]
    }
  ]
}